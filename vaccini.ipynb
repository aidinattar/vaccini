{
 "cells": [
  {
   "cell_type": "code",
   "execution_count": 1,
   "metadata": {},
   "outputs": [
    {
     "data": {
      "text/plain": [
       "[]"
      ]
     },
     "execution_count": 1,
     "metadata": {},
     "output_type": "execute_result"
    },
    {
     "data": {
      "image/png": "[encoded data removed]",
      "text/plain": [
       "<Figure size 432x288 with 1 Axes>"
      ]
     },
     "metadata": {
      "needs_background": "light"
     },
     "output_type": "display_data"
    }
   ],
   "source": [
    "import numpy as np\n",
    "import matplotlib.pyplot as plt  # To visualize\n",
    "import pandas as pd  # To read data\n",
    "\n",
    "plt.plot()"
   ]
  },
  {
   "cell_type": "code",
   "execution_count": 2,
   "metadata": {},
   "outputs": [],
   "source": [
    "anag       = pd.read_csv('anagrafica-vaccini-summary-latest.csv')  # load data set\n",
    "somm1      = pd.read_csv('somministrazioni-vaccini-latest.csv')\n",
    "cons       = pd.read_csv('consegne-vaccini-latest.csv')\n",
    "somm2      = pd.read_csv('somministrazioni-vaccini-summary-latest.csv')\n",
    "punti_somm = pd.read_csv('punti-somministrazione-latest.csv')\n",
    "vaccini    = pd.read_csv('vaccini-summary-latest.csv')"
   ]
  },
  {
   "cell_type": "code",
   "execution_count": 30,
   "metadata": {},
   "outputs": [
    {
     "data": {
      "text/html": [
       "<div>\n",
       "<style scoped>\n",
       "    .dataframe tbody tr th:only-of-type {\n",
       "        vertical-align: middle;\n",
       "    }\n",
       "\n",
       "    .dataframe tbody tr th {\n",
       "        vertical-align: top;\n",
       "    }\n",
       "\n",
       "    .dataframe thead th {\n",
       "        text-align: right;\n",
       "    }\n",
       "</style>\n",
       "<table border=\"1\" class=\"dataframe\">\n",
       "  <thead>\n",
       "    <tr style=\"text-align: right;\">\n",
       "      <th></th>\n",
       "      <th>data_somministrazione</th>\n",
       "      <th>area</th>\n",
       "      <th>totale</th>\n",
       "      <th>sesso_maschile</th>\n",
       "      <th>sesso_femminile</th>\n",
       "      <th>categoria_operatori_sanitari_sociosanitari</th>\n",
       "      <th>categoria_personale_non_sanitario</th>\n",
       "      <th>categoria_ospiti_rsa</th>\n",
       "    </tr>\n",
       "  </thead>\n",
       "  <tbody>\n",
       "    <tr>\n",
       "      <th>4</th>\n",
       "      <td>2020-12-27</td>\n",
       "      <td>EMR</td>\n",
       "      <td>975</td>\n",
       "      <td>374</td>\n",
       "      <td>601</td>\n",
       "      <td>903</td>\n",
       "      <td>46</td>\n",
       "      <td>26</td>\n",
       "    </tr>\n",
       "    <tr>\n",
       "      <th>49</th>\n",
       "      <td>2020-12-31</td>\n",
       "      <td>EMR</td>\n",
       "      <td>2186</td>\n",
       "      <td>760</td>\n",
       "      <td>1426</td>\n",
       "      <td>1740</td>\n",
       "      <td>101</td>\n",
       "      <td>345</td>\n",
       "    </tr>\n",
       "    <tr>\n",
       "      <th>83</th>\n",
       "      <td>2021-01-02</td>\n",
       "      <td>EMR</td>\n",
       "      <td>2343</td>\n",
       "      <td>907</td>\n",
       "      <td>1436</td>\n",
       "      <td>2099</td>\n",
       "      <td>66</td>\n",
       "      <td>178</td>\n",
       "    </tr>\n",
       "    <tr>\n",
       "      <th>104</th>\n",
       "      <td>2021-01-03</td>\n",
       "      <td>EMR</td>\n",
       "      <td>2750</td>\n",
       "      <td>944</td>\n",
       "      <td>1806</td>\n",
       "      <td>2508</td>\n",
       "      <td>73</td>\n",
       "      <td>169</td>\n",
       "    </tr>\n",
       "    <tr>\n",
       "      <th>123</th>\n",
       "      <td>2021-01-04</td>\n",
       "      <td>EMR</td>\n",
       "      <td>6834</td>\n",
       "      <td>2356</td>\n",
       "      <td>4478</td>\n",
       "      <td>5697</td>\n",
       "      <td>651</td>\n",
       "      <td>486</td>\n",
       "    </tr>\n",
       "  </tbody>\n",
       "</table>\n",
       "</div>"
      ],
      "text/plain": [
       "    data_somministrazione area  totale  sesso_maschile  sesso_femminile  \\\n",
       "4              2020-12-27  EMR     975             374              601   \n",
       "49             2020-12-31  EMR    2186             760             1426   \n",
       "83             2021-01-02  EMR    2343             907             1436   \n",
       "104            2021-01-03  EMR    2750             944             1806   \n",
       "123            2021-01-04  EMR    6834            2356             4478   \n",
       "\n",
       "     categoria_operatori_sanitari_sociosanitari  \\\n",
       "4                                           903   \n",
       "49                                         1740   \n",
       "83                                         2099   \n",
       "104                                        2508   \n",
       "123                                        5697   \n",
       "\n",
       "     categoria_personale_non_sanitario  categoria_ospiti_rsa  \n",
       "4                                   46                    26  \n",
       "49                                 101                   345  \n",
       "83                                  66                   178  \n",
       "104                                 73                   169  \n",
       "123                                651                   486  "
      ]
     },
     "execution_count": 30,
     "metadata": {},
     "output_type": "execute_result"
    }
   ],
   "source": [
    "somm2_grouped = somm2.groupby(somm2.area)\n",
    "somm2_emr     = somm2_grouped.get_group('EMR')\n",
    "somm2_ita     = somm2_grouped.get_group('ITA')\n",
    "somm2_ven     = somm2_grouped.get_group('VEN')\n",
    "\n",
    "somm2_emr"
   ]
  },
  {
   "cell_type": "code",
   "execution_count": 31,
   "metadata": {},
   "outputs": [
    {
     "data": {
      "text/plain": [
       "<AxesSubplot:title={'center':'veneto'}, xlabel='data_somministrazione'>"
      ]
     },
     "execution_count": 31,
     "metadata": {},
     "output_type": "execute_result"
    },
    {
     "data": {
      "image/png": "[encoded data removed]",
      "text/plain": [
       "<Figure size 432x288 with 1 Axes>"
      ]
     },
     "metadata": {
      "needs_background": "light"
     },
     "output_type": "display_data"
    },
    {
     "data": {
      "image/png": "[encoded data removed]",
      "text/plain": [
       "<Figure size 432x288 with 1 Axes>"
      ]
     },
     "metadata": {
      "needs_background": "light"
     },
     "output_type": "display_data"
    },
    {
     "data": {
      "image/png": "[encoded data removed]",
      "text/plain": [
       "<Figure size 432x288 with 1 Axes>"
      ]
     },
     "metadata": {
      "needs_background": "light"
     },
     "output_type": "display_data"
    }
   ],
   "source": [
    "somm2_emr.plot(x ='data_somministrazione', y='totale', kind = 'bar', title = \"emilia romagna\")\n",
    "somm2_ita.plot(x ='data_somministrazione', y='totale', kind = 'bar', title = \"italia\")\n",
    "somm2_ven.plot(x ='data_somministrazione', y='totale', kind = 'bar', title = \"veneto\")\n"
   ]
  },
  {
   "cell_type": "code",
   "execution_count": 38,
   "metadata": {},
   "outputs": [
    {
     "ename": "AttributeError",
     "evalue": "'DataFrameGroupBy' object has no attribute 'groupby'",
     "output_type": "error",
     "traceback": [
      "\u001b[0;31m---------------------------------------------------------------------------\u001b[0m",
      "\u001b[0;31mAttributeError\u001b[0m                            Traceback (most recent call last)",
      "\u001b[0;32m<ipython-input-38-1eca7b97d531>\u001b[0m in \u001b[0;36m<module>\u001b[0;34m\u001b[0m\n\u001b[1;32m      1\u001b[0m \u001b[0msomm1_grouped\u001b[0m \u001b[0;34m=\u001b[0m \u001b[0msomm1\u001b[0m\u001b[0;34m.\u001b[0m\u001b[0mgroupby\u001b[0m\u001b[0;34m(\u001b[0m\u001b[0msomm1\u001b[0m\u001b[0;34m.\u001b[0m\u001b[0marea\u001b[0m\u001b[0;34m)\u001b[0m\u001b[0;34m\u001b[0m\u001b[0;34m\u001b[0m\u001b[0m\n\u001b[0;32m----> 2\u001b[0;31m \u001b[0msomm1_90\u001b[0m      \u001b[0;34m=\u001b[0m \u001b[0msomm1_grouped\u001b[0m\u001b[0;34m.\u001b[0m\u001b[0mgroupby\u001b[0m\u001b[0;34m(\u001b[0m\u001b[0msomm1\u001b[0m\u001b[0;34m.\u001b[0m\u001b[0mascia_anagrafica\u001b[0m\u001b[0;34m)\u001b[0m\u001b[0;34m\u001b[0m\u001b[0;34m\u001b[0m\u001b[0m\n\u001b[0m\u001b[1;32m      3\u001b[0m \u001b[0msomm1_emr\u001b[0m     \u001b[0;34m=\u001b[0m \u001b[0msomm1_grouped\u001b[0m\u001b[0;34m.\u001b[0m\u001b[0mget_group\u001b[0m\u001b[0;34m(\u001b[0m\u001b[0;34m'EMR'\u001b[0m\u001b[0;34m,\u001b[0m \u001b[0;34m'90+'\u001b[0m\u001b[0;34m)\u001b[0m\u001b[0;34m\u001b[0m\u001b[0;34m\u001b[0m\u001b[0m\n\u001b[1;32m      4\u001b[0m \u001b[0msomm1_ven\u001b[0m     \u001b[0;34m=\u001b[0m \u001b[0msomm1_grouped\u001b[0m\u001b[0;34m.\u001b[0m\u001b[0mget_group\u001b[0m\u001b[0;34m(\u001b[0m\u001b[0;34m'VEN'\u001b[0m\u001b[0;34m,\u001b[0m \u001b[0;34m'90+'\u001b[0m\u001b[0;34m)\u001b[0m\u001b[0;34m\u001b[0m\u001b[0;34m\u001b[0m\u001b[0m\n\u001b[1;32m      5\u001b[0m \u001b[0;34m\u001b[0m\u001b[0m\n",
      "\u001b[0;32m~/anaconda3/lib/python3.8/site-packages/pandas/core/groupby/groupby.py\u001b[0m in \u001b[0;36m__getattr__\u001b[0;34m(self, attr)\u001b[0m\n\u001b[1;32m    701\u001b[0m             \u001b[0;32mreturn\u001b[0m \u001b[0mself\u001b[0m\u001b[0;34m[\u001b[0m\u001b[0mattr\u001b[0m\u001b[0;34m]\u001b[0m\u001b[0;34m\u001b[0m\u001b[0;34m\u001b[0m\u001b[0m\n\u001b[1;32m    702\u001b[0m \u001b[0;34m\u001b[0m\u001b[0m\n\u001b[0;32m--> 703\u001b[0;31m         raise AttributeError(\n\u001b[0m\u001b[1;32m    704\u001b[0m             \u001b[0;34mf\"'{type(self).__name__}' object has no attribute '{attr}'\"\u001b[0m\u001b[0;34m\u001b[0m\u001b[0;34m\u001b[0m\u001b[0m\n\u001b[1;32m    705\u001b[0m         )\n",
      "\u001b[0;31mAttributeError\u001b[0m: 'DataFrameGroupBy' object has no attribute 'groupby'"
     ]
    }
   ],
   "source": [
    "somm1_grouped = somm1.groupby(somm1.area)\n",
    "somm1_90      = somm1_grouped.groupby(somm1.ascia_anagrafica)\n",
    "somm1_emr     = somm1_grouped.get_group('EMR', '90+')\n",
    "somm1_ven     = somm1_grouped.get_group('VEN', '90+')\n",
    "\n",
    "somm1_emr"
   ]
  },
  {
   "cell_type": "code",
   "execution_count": null,
   "metadata": {},
   "outputs": [],
   "source": []
  }
 ],
 "metadata": {
  "kernelspec": {
   "display_name": "Python 3",
   "language": "python",
   "name": "python3"
  },
  "language_info": {
   "codemirror_mode": {
    "name": "ipython",
    "version": 3
   },
   "file_extension": ".py",
   "mimetype": "text/x-python",
   "name": "python",
   "nbconvert_exporter": "python",
   "pygments_lexer": "ipython3",
   "version": "3.8.5"
  }
 },
 "nbformat": 4,
 "nbformat_minor": 4
}
